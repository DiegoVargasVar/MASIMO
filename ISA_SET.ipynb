{
 "cells": [
  {
   "cell_type": "code",
   "execution_count": 1,
   "metadata": {},
   "outputs": [],
   "source": [
    "import serial\n",
    "import time\n",
    "import re\n",
    "import matplotlib\n",
    "import matplotlib.pyplot as plt\n",
    "import argparse\n",
    "import numpy as np\n",
    "import warnings"
   ]
  },
  {
   "cell_type": "code",
   "execution_count": 2,
   "metadata": {},
   "outputs": [
    {
     "ename": "SyntaxError",
     "evalue": "invalid syntax (<ipython-input-2-16d709c69cb6>, line 7)",
     "output_type": "error",
     "traceback": [
      "\u001b[1;36m  File \u001b[1;32m\"<ipython-input-2-16d709c69cb6>\"\u001b[1;36m, line \u001b[1;32m7\u001b[0m\n\u001b[1;33m    \"sysALARM\": [0]*win,\"SPO2\": [0]*win,\"BPM\": [0]*win,\"PI\": [0]*win,\u001b[0m\n\u001b[1;37m             ^\u001b[0m\n\u001b[1;31mSyntaxError\u001b[0m\u001b[1;31m:\u001b[0m invalid syntax\n"
     ]
    }
   ],
   "source": [
    "class dataRoot(object):\n",
    "    \"\"\"docstring for dataRoot\"\"\"\n",
    "    def _init_(self,win):\n",
    "        super(dataRoot, self)._init_()\n",
    "        self.win = win\n",
    "        self.dic = {\"date\" :[0]*win,\"hour\": [0]*win,\"SN\": [0]*win,\"CHAN\": [0]*win.\n",
    "                   \"sysALARM\": [0]*win,\"SPO2\": [0]*win,\"BPM\": [0]*win,\"PI\": [0]*win,\n",
    "                   \"SPHB\": [0]*win,\n",
    "                   \"DESAT\": [0]*win,\"PIDelta\": [0]*win,\n",
    "                   \"PVI\": [0]*win,\n",
    "                   \"TVI\": [0]*win,\n",
    "                   \"ALARM\": [0]*win,\"Alarm1\": [0]*win,\n",
    "                   \"ACSALARM\": [0]*win,\"EXC\": [0]*win, \"EXC1\": [0]*win,\"EXC2\": [0]*win,\n",
    "                   \"ACSEXC\": [0]*win,\"eegPSI\": [0]*win,\"eegEMG\": [0]*win,\"eegSR\": [0]*win,\n",
    "                   \"eegSEFL\": [0]*win,\"eegSEFR\": [0]*win,\"eegARTF\": [0]*win,\"eegALARM\": [0]*win,\n",
    "                   \"umgALARM\": [0]*win,\n",
    "                   \"eegEXC\": [0]*win,\n",
    "                   \"kapnoFiSO2\": [0]*win,\n",
    "                   \"capnoFiCO2\": [0]*win,\"capnoEtCO2\": [0]*win,\"capnoRR\": [0]*win,\n",
    "                   \"capnoAlarm\": [0]*win,\"capnoAlarm1\": [0]*win,\"capnoEXC\": [0]*win,\"nibpSYS\": [0]*win,\n",
    "                   \"nipbDIA\": [0]*win,\"nibpMAP\": [0]*win,\"nibpPR\": [0]*win,\"nibpAlarm\": [0]*win,\n",
    "                   \"nibpEXC\": [0]*win,\"nibpMEASTIME\": [0]*win,\"TempParam\": [0]*win,\"TempAlarm\": [0]*win,\n",
    "                   \"tempEXC\": [0]*win,\"tempMEASTIME\": [0]*win}\n",
    "        "
   ]
  },
  {
   "cell_type": "code",
   "execution_count": 4,
   "metadata": {},
   "outputs": [],
   "source": [
    "def parseRoot(self, vec):\n",
    "    fields = vec.split()\n",
    "    keys = self.dic.keys()\n",
    "    fieldkeys = [(lambda x: x in fields)(x) for x in keys]\n",
    "    \n",
    "    if len(self.dic['date']) < self.win:\n",
    "        self.dic['date'].append(str(fields[0]))\n",
    "        self.dic['hour'].append(str(fields[1][0:5]))\n",
    "        \n",
    "    else:\n",
    "        self.dic['date'].pop(0)\n",
    "        self.dic['hour'].pop(0)\n",
    "        self.dic['date'].append(fields[0])\n",
    "        self.dic['hour'].append(fields[1][0:5])\n",
    "        \n",
    "    for fd in range(2,len(fields[2:])):\n",
    "        tmp = fields[fd].split('=')\n",
    "        \n",
    "        if tmp[0] in keys:\n",
    "            try:\n",
    "                if len(self.dic[tmp[0]]) < self.win:\n",
    "                    self.dic[tpm[0]].append(float(re.sub('[a-zA-Z%]','',tmp[-1])))\n",
    "                else:\n",
    "                    self.dic[tmp[0]].pop(0)\n",
    "                    self.dic[tmp[0]].append(float(re.sub('[a-zA-Z%]','',tmp[-1])))\n",
    "            except:\n",
    "                if len(self.dic[tmp[0]]) < self.win:\n",
    "                    self.dic[tmp[0]].append[0]\n",
    "                else:\n",
    "                    self.dic[tmp[0]].pop(0)\n",
    "                    self.dic[tmp[0]].append(0)\n",
    "        else:\n",
    "            self.dic[keys[fd]].pop(0)\n",
    "            self.dic[keys[fd]].append(np.nan)\n",
    "    \n",
    "    return self.dic\n",
    "        \n",
    "        \n",
    "    "
   ]
  },
  {
   "cell_type": "code",
   "execution_count": 5,
   "metadata": {},
   "outputs": [],
   "source": [
    "def handle_close(evt):\n",
    "    print('Closed Figure!')"
   ]
  },
  {
   "cell_type": "code",
   "execution_count": 6,
   "metadata": {
    "scrolled": true
   },
   "outputs": [
    {
     "name": "stderr",
     "output_type": "stream",
     "text": [
      "usage: ipykernel_launcher.py [-h] -sP SERIALPORT -bR BAUDRATE -w WINDOW -nF\n",
      "                             NAMEFILE\n",
      "ipykernel_launcher.py: error: the following arguments are required: -sP/--serialPort, -bR/--baudRate, -w/--window, -nF/--nameFile\n"
     ]
    },
    {
     "ename": "SystemExit",
     "evalue": "2",
     "output_type": "error",
     "traceback": [
      "An exception has occurred, use %tb to see the full traceback.\n",
      "\u001b[1;31mSystemExit\u001b[0m\u001b[1;31m:\u001b[0m 2\n"
     ]
    },
    {
     "name": "stderr",
     "output_type": "stream",
     "text": [
      "C:\\Users\\dieav\\Anaconda3\\lib\\site-packages\\IPython\\core\\interactiveshell.py:2971: UserWarning: To exit: use 'exit', 'quit', or Ctrl-D.\n",
      "  warn(\"To exit: use 'exit', 'quit', or Ctrl-D.\", stacklevel=1)\n"
     ]
    }
   ],
   "source": [
    "# construct the argument parse and parse the arguments\n",
    "\n",
    "ap = argparse.ArgumentParser()\n",
    "ap.add_argument(\"-sP\", \"--serialPort\", required=True, type = str,help=\"Port, example: COM1\")\n",
    "ap.add_argument(\"-bR\", \"--baudRate\", required=True,type = int, help=\"baudrate example: 921600 \")\n",
    "ap.add_argument(\"-w\", \"--window\", required=True,type=int, help=\"windows in minutes\")\n",
    "ap.add_argument(\"-nF\", \"--nameFile\", required=True,type=str, help=\"Name of the file, it must have an extension .txt\")\n",
    "\n",
    "args = vars(ap.parse_args())\n",
    "\n",
    "warnings.filterwarnings(\"ignore\")\n"
   ]
  },
  {
   "cell_type": "code",
   "execution_count": 7,
   "metadata": {},
   "outputs": [
    {
     "ename": "NameError",
     "evalue": "name 'args' is not defined",
     "output_type": "error",
     "traceback": [
      "\u001b[1;31m---------------------------------------------------------------------------\u001b[0m",
      "\u001b[1;31mNameError\u001b[0m                                 Traceback (most recent call last)",
      "\u001b[1;32m<ipython-input-7-240bb80ec7c9>\u001b[0m in \u001b[0;36m<module>\u001b[1;34m()\u001b[0m\n\u001b[0;32m      1\u001b[0m \u001b[1;31m# Create the serial object\u001b[0m\u001b[1;33m\u001b[0m\u001b[1;33m\u001b[0m\u001b[0m\n\u001b[0;32m      2\u001b[0m \u001b[1;33m\u001b[0m\u001b[0m\n\u001b[1;32m----> 3\u001b[1;33m \u001b[0mserialPort\u001b[0m \u001b[1;33m=\u001b[0m \u001b[0margs\u001b[0m\u001b[1;33m[\u001b[0m\u001b[1;34m\"serialPort\"\u001b[0m\u001b[1;33m]\u001b[0m\u001b[1;33m\u001b[0m\u001b[0m\n\u001b[0m\u001b[0;32m      4\u001b[0m \u001b[0mbau\u001b[0m \u001b[1;33m=\u001b[0m \u001b[0margs\u001b[0m\u001b[1;33m[\u001b[0m\u001b[1;34m\"baudRate\"\u001b[0m\u001b[1;33m]\u001b[0m\u001b[1;33m\u001b[0m\u001b[0m\n\u001b[0;32m      5\u001b[0m \u001b[0mwin\u001b[0m \u001b[1;33m=\u001b[0m \u001b[0margs\u001b[0m\u001b[1;33m[\u001b[0m\u001b[1;34m\"window\"\u001b[0m\u001b[1;33m]\u001b[0m\u001b[1;33m*\u001b[0m\u001b[1;36m60\u001b[0m\u001b[1;33m\u001b[0m\u001b[0m\n",
      "\u001b[1;31mNameError\u001b[0m: name 'args' is not defined"
     ]
    }
   ],
   "source": [
    "# Create the serial object\n",
    "\n",
    "serialPort = args[\"serialPort\"]\n",
    "bau = args[\"baudRate\"]\n",
    "win = args[\"window\"]*60\n",
    "nameFile = args[\"nameFile\"]\n",
    "\n",
    "serialObject = serial.Serial(serialPort,baudrate=bau,timeout = 1.0);\n",
    "file = open(nameFile, \"w\")\n",
    "root = dataRoot(win)\n"
   ]
  },
  {
   "cell_type": "code",
   "execution_count": 8,
   "metadata": {},
   "outputs": [
    {
     "data": {
      "text/plain": [
       "<Figure size 432x288 with 0 Axes>"
      ]
     },
     "metadata": {},
     "output_type": "display_data"
    }
   ],
   "source": [
    "fig = plt.figure()\n",
    "fig.canvas.mpl_connect('close_event', handle_close)\n",
    "fig.patch.set_facecolor('black')\n",
    "matplotlib.rc('axes',edgecolor='white')\n"
   ]
  },
  {
   "cell_type": "code",
   "execution_count": 9,
   "metadata": {},
   "outputs": [
    {
     "ename": "NameError",
     "evalue": "name 'win' is not defined",
     "output_type": "error",
     "traceback": [
      "\u001b[1;31m---------------------------------------------------------------------------\u001b[0m",
      "\u001b[1;31mNameError\u001b[0m                                 Traceback (most recent call last)",
      "\u001b[1;32m<ipython-input-9-e04840ba38e7>\u001b[0m in \u001b[0;36m<module>\u001b[1;34m()\u001b[0m\n\u001b[1;32m----> 1\u001b[1;33m \u001b[0mt\u001b[0m \u001b[1;33m=\u001b[0m \u001b[0mrange\u001b[0m\u001b[1;33m(\u001b[0m\u001b[1;36m0\u001b[0m\u001b[1;33m,\u001b[0m\u001b[0mwin\u001b[0m\u001b[1;33m)\u001b[0m\u001b[1;33m\u001b[0m\u001b[0m\n\u001b[0m\u001b[0;32m      2\u001b[0m \u001b[0mXTicks2\u001b[0m \u001b[1;33m=\u001b[0m \u001b[0mnp\u001b[0m\u001b[1;33m.\u001b[0m\u001b[0marray\u001b[0m\u001b[1;33m(\u001b[0m\u001b[0mrange\u001b[0m\u001b[1;33m(\u001b[0m\u001b[1;36m0\u001b[0m\u001b[1;33m,\u001b[0m\u001b[0mwin\u001b[0m\u001b[1;33m,\u001b[0m\u001b[1;36m60\u001b[0m\u001b[1;33m)\u001b[0m\u001b[1;33m)\u001b[0m\u001b[1;33m\u001b[0m\u001b[0m\n\u001b[0;32m      3\u001b[0m \u001b[0mcount2\u001b[0m \u001b[1;33m=\u001b[0m \u001b[1;36m0\u001b[0m\u001b[1;33m\u001b[0m\u001b[0m\n\u001b[0;32m      4\u001b[0m \u001b[0mactivo\u001b[0m \u001b[1;33m=\u001b[0m \u001b[1;32mTrue\u001b[0m\u001b[1;33m\u001b[0m\u001b[0m\n\u001b[0;32m      5\u001b[0m \u001b[1;33m\u001b[0m\u001b[0m\n",
      "\u001b[1;31mNameError\u001b[0m: name 'win' is not defined"
     ]
    }
   ],
   "source": [
    "t = range(0,win)\n",
    "XTicks2 = np.array(range(0,win,60))\n",
    "count2 = 0\n",
    "activo = True\n",
    "\n",
    "while activo:\n",
    "    data = serialObject.readline()\n",
    "    file.write(data)\n",
    "    if count2 == -59:\n",
    "        count2 = 0\n",
    "        XTicks = np.array(range(0,win,60))\n",
    "    else:\n",
    "        XTicks = np.array(range(count2,win,60))\n",
    "        count2 -= 1\n",
    "        XTicks = XTicks[XTicks> 0]\n",
    "        \n",
    "        \n",
    "    plot_vec = root.parseRoot(data)\n",
    "    tmp = plot_vec['Hour']\n",
    "    if tmp[XTicks[-1]] != 0:\n",
    "        Ticks = [(lambda x,tmp: tmp[x])(x,tmp) for x in XTicks]\n",
    "    else:\n",
    "        Ticks = [0]*len(XTicks)\n",
    "    \n",
    "    \n",
    "        \n",
    "    \n",
    "    plt.clf()\n",
    "    \n",
    "    ax = fig.add_subplot(321)\n",
    "    plt.rcParams['axes.facecolor'] = 'black'\n",
    "    #plt.rcParams['legend.handletextpad'] = 'white'\n",
    "    plt.plot(t,plot_vec['SPO2'])\n",
    "    plt.hold(True)\n",
    "    plt.plot(t,plot_vec['BPM'])\n",
    "    plt.legend([\"SPO2\",\"BPM\"], loc = 1)\n",
    "    plt.hold(False)\n",
    "    plt.ylim([0, 100])\n",
    "    plt.tick_params(axis='x', colors='white')\n",
    "    plt.tick_params(axis='y', colors='white')\n",
    "    plt.xticks(XTicks,Ticks)\n",
    "    plt.draw()\n",
    "    \n",
    "    \n",
    "    ax = fig.add_subplot(322)\n",
    "    plt.plot(t,plot_vec['eegPSI'])\n",
    "    plt.legend([\"PSI\"],loc=1)\n",
    "    plt.ylim([0, 100])\n",
    "    plt.hold(False)\n",
    "    plt.tick_params(axis='x', colors='white')\n",
    "    plt.tick_params(axis='y', colors='white')\n",
    "    plt.xticks(XTicks,Ticks)\n",
    "    plt.draw()\n",
    "    \n",
    "    ax = fig.add_subplot(323)\n",
    "    plt.plot(t,plot_vec['capnoFiCO2'])\n",
    "    plt.hold(True)\n",
    "    plt.plot(t,plot_vec['capnoEtCO2'])\n",
    "    plt.plot(t,plot_vec['capnoRR'])\n",
    "    plt.legend([\"FiCO2\",\"EtCO2\",\"RR\"],loc=1)\n",
    "    plt.hold(False)\n",
    "    plt.ylim([0, 50])\n",
    "    plt.tick_params(axis='x', colors='white')\n",
    "    plt.tick_params(axis='y', colors='white')\n",
    "    plt.xticks(XTicks,Ticks)\n",
    "    plt.draw()\n",
    "    \n",
    "    ax = fig.add_subplot(324)\n",
    "    plt.plot(t,plot_vec['nibpSYS'])\n",
    "    plt.hold(True)\n",
    "    plt.plot(t,plot_vec['nibpDIA'])\n",
    "    plt.plot(t,plot_vec['nibpMAP'])\n",
    "    plt.plot(t,plot_vec['nibpPR'])\n",
    "    plt.legend([\"SYS\",\"DIA\",\"MAP\",\"PR\"],loc=1)\n",
    "    plt.hold(False)\n",
    "    plt.ylim([0, 120])\n",
    "    plt.tick_params(axis='x', colors='white')\n",
    "    plt.tick_params(axis='y', colors='white')\n",
    "    plt.xticks(XTicks,Ticks)\n",
    "    plt.draw()\n",
    "    \n",
    "    \n",
    "    ax = fig.add_subplot(325)\n",
    "    plt.plot(t,plot_vec['tempParam'])\n",
    "    plt.legend([\"temperature\"],loc=1)\n",
    "    plt.ylim([0, 50])\n",
    "    plt.tick_params(axis='x', colors='white')\n",
    "    plt.tick_params(axis='y', colors='white')\n",
    "    plt.xticks(XTicks,Ticks)\n",
    "    plt.draw()\n",
    "    \n",
    "    \n",
    "    ax = fig.add_subplot(326)\n",
    "    plt.plot(t,plot_vec['BPM'])\n",
    "    plt.plot(t,plot_vec['eegPSI'])\n",
    "    plt.legend([\"BPM\",\"PSI\"],loc=1)\n",
    "    plt.ylim([0, 100])\n",
    "    plt.tick_params(axis='x', colors='white')\n",
    "    plt.tick_params(axis='y', colors='white')\n",
    "    plt.xticks(XTicks,Ticks)\n",
    "    plt.draw()\n",
    "    \n",
    "    plt.pause(0.5)\n",
    "    \n",
    "serialObject.close()\n",
    "file.close()  \n",
    "        "
   ]
  },
  {
   "cell_type": "code",
   "execution_count": null,
   "metadata": {},
   "outputs": [],
   "source": []
  }
 ],
 "metadata": {
  "kernelspec": {
   "display_name": "Python 3",
   "language": "python",
   "name": "python3"
  },
  "language_info": {
   "codemirror_mode": {
    "name": "ipython",
    "version": 3
   },
   "file_extension": ".py",
   "mimetype": "text/x-python",
   "name": "python",
   "nbconvert_exporter": "python",
   "pygments_lexer": "ipython3",
   "version": "3.6.5"
  }
 },
 "nbformat": 4,
 "nbformat_minor": 2
}
