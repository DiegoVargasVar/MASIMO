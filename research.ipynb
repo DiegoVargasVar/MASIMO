{
 "cells": [
  {
   "cell_type": "markdown",
   "metadata": {},
   "source": [
    "# PyMasimo #\n",
    "\n",
    "~~abstract~~"
   ]
  },
  {
   "cell_type": "markdown",
   "metadata": {},
   "source": [
    "## Usage ##"
   ]
  },
  {
   "cell_type": "code",
   "execution_count": 3,
   "metadata": {},
   "outputs": [],
   "source": [
    "from pymasimo import Masimo"
   ]
  },
  {
   "cell_type": "code",
   "execution_count": 4,
   "metadata": {},
   "outputs": [],
   "source": [
    "device = Masimo()\n",
    "device.connect()\n",
    "data =device.collect()\n",
    "device.close()"
   ]
  },
  {
   "cell_type": "markdown",
   "metadata": {},
   "source": [
    "## Intput ##"
   ]
  },
  {
   "cell_type": "markdown",
   "metadata": {},
   "source": [
    "## Output ##"
   ]
  },
  {
   "cell_type": "markdown",
   "metadata": {},
   "source": [
    "## References ##\n",
    "\n",
    "  * [AS/3, CS/3 Monitoring System Main Software S/5 Monitor System Main Software Computer Interface](https://bitbucket.org/gcpds/docs/raw/887831aef98e473e4cc214b0ad809d39347444f2/AS3-S5%20Comm%20Protocol%20Computer%20Interface.pdf)\n",
    "  * [Data acquisition from S/5 GE Datex anesthesia monitor using VSCapture: An open source.NET/Mono tool](https://bitbucket.org/gcpds/docs/raw/887831aef98e473e4cc214b0ad809d39347444f2/JAnaesthClinPharmacol293423-4307986_115759.pdf)\n",
    "  * [An Open-Source Anaesthesia Workstation (Linux)](https://bitbucket.org/gcpds/docs/raw/887831aef98e473e4cc214b0ad809d39347444f2/xenon2014b.pdf)\n"
   ]
  }
 ],
 "metadata": {
  "kernelspec": {
   "display_name": "Python 3",
   "language": "python",
   "name": "python3"
  },
  "language_info": {
   "codemirror_mode": {
    "name": "ipython",
    "version": 3
   },
   "file_extension": ".py",
   "mimetype": "text/x-python",
   "name": "python",
   "nbconvert_exporter": "python",
   "pygments_lexer": "ipython3",
   "version": "3.6.5"
  }
 },
 "nbformat": 4,
 "nbformat_minor": 2
}
